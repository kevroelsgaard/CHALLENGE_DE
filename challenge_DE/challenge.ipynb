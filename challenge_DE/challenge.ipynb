{
 "cells": [
  {
   "cell_type": "markdown",
   "metadata": {},
   "source": [
    "En este archivo puedes escribir lo que estimes conveniente. Te recomendamos detallar tu solución y todas las suposiciones que estás considerando. Aquí puedes ejecutar las funciones que definiste en los otros archivos de la carpeta src, medir el tiempo, memoria, etc."
   ]
  },
  {
   "cell_type": "code",
   "execution_count": 1,
   "metadata": {},
   "outputs": [],
   "source": [
    "file_path = \"farmers-protest-tweets-2021-2-4.json\"\n",
    "%load_ext memory_profiler"
   ]
  },
  {
   "cell_type": "markdown",
   "metadata": {},
   "source": [
    "Reubiqué el archivo challenge.ipynb a un directorio diferente para mantener una organización más clara, separando el archivo principal de aquellos que contienen definiciones de funciones. \n",
    "\n",
    "He inicializado la ruta del archivo de datos de entrada y cargado el módulo memory_profiler para su uso en el notebook. \n",
    "\n",
    "Opté por aplicar los mismos métodos tanto en funciones de tiempo como de memoria tras observar que estos enfoques optimizan el uso de memoria así como también el tiempo de ejecución. \n",
    "\n",
    "Además, implementé los módulos emoji y re para identificar y contar emojis en los textos y para usar expresiones regulares en la identificación de menciones a usuarios, respectivamente. También utilicé el módulo collections ya que me facilitó bastante el manejo de conteos.\n",
    "\n",
    "Por último los metodos implementados para las diferentes funciones se encuentran comentados para su mejor entendimiento."
   ]
  },
  {
   "cell_type": "code",
   "execution_count": null,
   "metadata": {},
   "outputs": [],
   "source": [
    "from q1_time import q1_time\n",
    "print(q1_time(file_path))\n",
    "%time resultado = q1_time(file_path)\n",
    "%memit resultado = q1_time(file_path)"
   ]
  },
  {
   "cell_type": "code",
   "execution_count": null,
   "metadata": {},
   "outputs": [],
   "source": [
    "from q2_time import q2_time\n",
    "print(q2_time(file_path))\n",
    "%time resultado = q2_time(file_path)\n",
    "%memit resultado = q2_time(file_path)"
   ]
  },
  {
   "cell_type": "code",
   "execution_count": null,
   "metadata": {},
   "outputs": [],
   "source": [
    "from q3_time import q3_time\n",
    "print(q3_time(file_path))\n",
    "%time resultado = q3_time(file_path)\n",
    "%memit resultado = q3_time(file_path)"
   ]
  }
 ],
 "metadata": {
  "kernelspec": {
   "display_name": "Python 3",
   "language": "python",
   "name": "python3"
  },
  "language_info": {
   "codemirror_mode": {
    "name": "ipython",
    "version": 3
   },
   "file_extension": ".py",
   "mimetype": "text/x-python",
   "name": "python",
   "nbconvert_exporter": "python",
   "pygments_lexer": "ipython3",
   "version": "3.9.6"
  },
  "orig_nbformat": 4
 },
 "nbformat": 4,
 "nbformat_minor": 2
}
